{
 "cells": [
  {
   "cell_type": "code",
   "execution_count": null,
   "id": "66180b7a",
   "metadata": {},
   "outputs": [],
   "source": [
    "from bs4 import BeautifulSoup"
   ]
  },
  {
   "cell_type": "code",
   "execution_count": null,
   "id": "0f672caf",
   "metadata": {},
   "outputs": [],
   "source": [
    "import pandas as pd"
   ]
  },
  {
   "cell_type": "code",
   "execution_count": null,
   "id": "40e58c81",
   "metadata": {},
   "outputs": [],
   "source": [
    "from tqdm import tqdm"
   ]
  },
  {
   "cell_type": "code",
   "execution_count": null,
   "id": "4f680080",
   "metadata": {},
   "outputs": [],
   "source": [
    "import time"
   ]
  },
  {
   "cell_type": "code",
   "execution_count": null,
   "id": "ec7e1f1c",
   "metadata": {},
   "outputs": [],
   "source": [
    "import requests"
   ]
  },
  {
   "cell_type": "code",
   "execution_count": null,
   "id": "efa7e906",
   "metadata": {},
   "outputs": [],
   "source": [
    "import re"
   ]
  },
  {
   "cell_type": "code",
   "execution_count": null,
   "id": "1f1c8043",
   "metadata": {},
   "outputs": [],
   "source": [
    "!pip install selenium"
   ]
  },
  {
   "cell_type": "code",
   "execution_count": null,
   "id": "4a0175e2",
   "metadata": {},
   "outputs": [],
   "source": [
    "import selenium.webdriver as webdriver"
   ]
  },
  {
   "cell_type": "code",
   "execution_count": null,
   "id": "8cc05f6f",
   "metadata": {},
   "outputs": [],
   "source": [
    "from selenium.webdriver.common.keys import Keys"
   ]
  },
  {
   "cell_type": "code",
   "execution_count": null,
   "id": "3e1d2c3b",
   "metadata": {},
   "outputs": [],
   "source": [
    "from selenium.common.exceptions import TimeoutException"
   ]
  },
  {
   "cell_type": "code",
   "execution_count": null,
   "id": "ed9e4d2b",
   "metadata": {},
   "outputs": [],
   "source": [
    "from selenium.webdriver.support import expected_conditions as EC"
   ]
  },
  {
   "cell_type": "code",
   "execution_count": null,
   "id": "da0d5f4a",
   "metadata": {},
   "outputs": [],
   "source": [
    "from selenium.webdriver.common.by import By"
   ]
  },
  {
   "cell_type": "code",
   "execution_count": null,
   "id": "80fe8fba",
   "metadata": {},
   "outputs": [],
   "source": [
    "from selenium.webdriver.support.wait import WebDriverWait"
   ]
  },
  {
   "cell_type": "code",
   "execution_count": null,
   "id": "398cf4e6",
   "metadata": {},
   "outputs": [],
   "source": [
    "url=\"https://www.instagram.com/\""
   ]
  },
  {
   "cell_type": "code",
   "execution_count": null,
   "id": "8ee1f8bd",
   "metadata": {},
   "outputs": [],
   "source": [
    "driver=webdriver.Chrome()"
   ]
  },
  {
   "cell_type": "code",
   "execution_count": null,
   "id": "cd32e352",
   "metadata": {},
   "outputs": [],
   "source": [
    "driver.get(url)"
   ]
  },
  {
   "cell_type": "code",
   "execution_count": null,
   "id": "cbca1859",
   "metadata": {},
   "outputs": [],
   "source": [
    "driver.maximize_window()"
   ]
  },
  {
   "cell_type": "code",
   "execution_count": null,
   "id": "5056bfc3",
   "metadata": {},
   "outputs": [],
   "source": [
    "username= WebDriverWait(driver,10).until(EC.element_to_be_clickable((By.CSS_SELECTOR,\"input[name='username']\")))"
   ]
  },
  {
   "cell_type": "code",
   "execution_count": null,
   "id": "64439c73",
   "metadata": {},
   "outputs": [],
   "source": [
    "password= WebDriverWait(driver,10).until(EC.element_to_be_clickable((By.CSS_SELECTOR,\"input[name='password']\")))"
   ]
  },
  {
   "cell_type": "code",
   "execution_count": null,
   "id": "29c0c587",
   "metadata": {},
   "outputs": [],
   "source": [
    "username.clear()"
   ]
  },
  {
   "cell_type": "code",
   "execution_count": null,
   "id": "153eab24",
   "metadata": {},
   "outputs": [],
   "source": [
    "password.clear()"
   ]
  },
  {
   "cell_type": "code",
   "execution_count": null,
   "id": "a9466377",
   "metadata": {},
   "outputs": [],
   "source": [
    "username=input(\"Enter the username: \")"
   ]
  },
  {
   "cell_type": "code",
   "execution_count": null,
   "id": "ba45d3f1",
   "metadata": {},
   "outputs": [],
   "source": [
    "username.send_keys(username)"
   ]
  },
  {
   "cell_type": "code",
   "execution_count": null,
   "id": "19dfada9",
   "metadata": {},
   "outputs": [],
   "source": [
    "password=input(\"Enter the password: \")"
   ]
  },
  {
   "cell_type": "code",
   "execution_count": null,
   "id": "55d73142",
   "metadata": {},
   "outputs": [],
   "source": [
    "password.send_keys(password)"
   ]
  },
  {
   "cell_type": "code",
   "execution_count": null,
   "id": "81261643",
   "metadata": {},
   "outputs": [],
   "source": [
    "login= WebDriverWait(driver,10).until(EC.element_to_be_clickable((By.CSS_SELECTOR,\"button[type='submit']\"))).click()"
   ]
  },
  {
   "cell_type": "code",
   "execution_count": null,
   "id": "65000f1c",
   "metadata": {},
   "outputs": [],
   "source": [
    "login2= WebDriverWait(driver,10).until(EC.element_to_be_clickable((By.XPATH,\"//div[contains(text(),'Not Now')]\"))).click()"
   ]
  },
  {
   "cell_type": "code",
   "execution_count": null,
   "id": "16e4bd81",
   "metadata": {},
   "outputs": [],
   "source": [
    "login3= WebDriverWait(driver,10).until(EC.element_to_be_clickable((By.XPATH,\"//button[contains(text(),'Not Now')]\"))).click()"
   ]
  },
  {
   "cell_type": "code",
   "execution_count": null,
   "id": "d051ffa6",
   "metadata": {},
   "outputs": [],
   "source": [
    "driver.minimize_window()"
   ]
  },
  {
   "cell_type": "code",
   "execution_count": null,
   "id": "bd076fdd",
   "metadata": {},
   "outputs": [],
   "source": [
    "handle=input(\"Enter the handle name:\")"
   ]
  },
  {
   "cell_type": "code",
   "execution_count": null,
   "id": "72913071",
   "metadata": {},
   "outputs": [],
   "source": [
    "handle=handle+'/?hl=en'"
   ]
  },
  {
   "cell_type": "code",
   "execution_count": null,
   "id": "de756c52",
   "metadata": {},
   "outputs": [],
   "source": [
    "driver.maximize_window()"
   ]
  },
  {
   "cell_type": "code",
   "execution_count": null,
   "id": "214fd817",
   "metadata": {},
   "outputs": [],
   "source": [
    "driver.get(url+handle)"
   ]
  },
  {
   "cell_type": "code",
   "execution_count": null,
   "id": "bf6b8d95",
   "metadata": {},
   "outputs": [],
   "source": [
    "posts=WebDriverWait(driver,10).until(EC.element_to_be_clickable((By.XPATH,\"//*[text()=' posts']\")))"
   ]
  },
  {
   "cell_type": "code",
   "execution_count": null,
   "id": "b60322e6",
   "metadata": {},
   "outputs": [],
   "source": [
    "posts=(posts.text).split()[0]"
   ]
  },
  {
   "cell_type": "code",
   "execution_count": null,
   "id": "86bdba4e",
   "metadata": {},
   "outputs": [],
   "source": [
    "posts=re.sub(',','',posts)"
   ]
  },
  {
   "cell_type": "code",
   "execution_count": null,
   "id": "4015de83",
   "metadata": {},
   "outputs": [],
   "source": [
    "print(posts)"
   ]
  },
  {
   "cell_type": "code",
   "execution_count": null,
   "id": "7ab8f304",
   "metadata": {},
   "outputs": [],
   "source": [
    "phot= WebDriverWait(driver,10).until(EC.element_to_be_clickable((By.CSS_SELECTOR,\"div[class='_aagw']\"))).click()"
   ]
  },
  {
   "cell_type": "code",
   "execution_count": null,
   "id": "31e5c010",
   "metadata": {},
   "outputs": [],
   "source": [
    "result_cap=[]"
   ]
  },
  {
   "cell_type": "code",
   "execution_count": null,
   "id": "a5fadb92",
   "metadata": {},
   "outputs": [],
   "source": [
    "result_likes=[]"
   ]
  },
  {
   "cell_type": "code",
   "execution_count": null,
   "id": "9372aba2",
   "metadata": {},
   "outputs": [],
   "source": [
    "ptype=[]"
   ]
  },
  {
   "cell_type": "code",
   "execution_count": null,
   "id": "7ff53e90",
   "metadata": {},
   "outputs": [],
   "source": [
    "p_or_u=[]"
   ]
  },
  {
   "cell_type": "code",
   "execution_count": null,
   "id": "75e6591e",
   "metadata": {},
   "outputs": [],
   "source": [
    "for i in tqdm(range(100)):\n",
    "    time.sleep(0.5)\n",
    "    vid=driver.find_elements(By.TAG_NAME,'video')\n",
    "    paid=(driver.find_elements(By.XPATH,\"//*[text()='Paid partnership']\")) or (driver.find_elements(By.XPATH,\"//*[text()='Paid partnership with ']\"))\n",
    "    if(len(paid)==0):\n",
    "        p_or_u.append('Not sponsored')\n",
    "        \n",
    "    else: \n",
    "        p_or_u.append('Sponsored')\n",
    "    if (len(vid)==0):\n",
    "        ptype.append('Photo')\n",
    "        \n",
    "    else:\n",
    "        ptype.append('Video')\n",
    "    likes=WebDriverWait(driver,10).until(EC.element_to_be_clickable((By.XPATH,\"//*[text()=' likes']\")))\n",
    "    likes=int(re.sub(',','',likes.text.split()[0]))\n",
    "    result_likes.append(likes)\n",
    "    try:\n",
    "        cap=WebDriverWait(driver,1).until(EC.element_to_be_clickable((By.CSS_SELECTOR,\"h1[class='_aacl _aaco _aacu _aacx _aad7 _aade']\")))\n",
    "    except TimeoutException:\n",
    "        result_cap.append(\"NO_CAPTION\")\n",
    "        phot= WebDriverWait(driver,10).until(EC.element_to_be_clickable((By.CSS_SELECTOR,\"div[class=' _aaqg _aaqh']\"))).click()\n",
    "        continue\n",
    "    \n",
    "    result_cap.append(cap.text)\n",
    "    phot= WebDriverWait(driver,10).until(EC.element_to_be_clickable((By.CSS_SELECTOR,\"div[class=' _aaqg _aaqh']\"))).click()"
   ]
  },
  {
   "cell_type": "code",
   "execution_count": null,
   "id": "6a792574",
   "metadata": {},
   "outputs": [],
   "source": [
    "print(result_cap)"
   ]
  },
  {
   "cell_type": "code",
   "execution_count": null,
   "id": "c94be34a",
   "metadata": {},
   "outputs": [],
   "source": [
    "print(result_likes)"
   ]
  },
  {
   "cell_type": "code",
   "execution_count": null,
   "id": "a2650a38",
   "metadata": {},
   "outputs": [],
   "source": [
    "df=pd.DataFrame()"
   ]
  },
  {
   "cell_type": "code",
   "execution_count": null,
   "id": "ad3198ff",
   "metadata": {},
   "outputs": [],
   "source": [
    "for i in range(len(result_cap)):\n",
    "    result_cap[i]=\" \".join(re.sub('\\n',' ',result_cap[i]).split())"
   ]
  },
  {
   "cell_type": "code",
   "execution_count": null,
   "id": "2dc9d2e8",
   "metadata": {},
   "outputs": [],
   "source": [
    "df['LIKES']=result_likes"
   ]
  },
  {
   "cell_type": "code",
   "execution_count": null,
   "id": "5b37053b",
   "metadata": {},
   "outputs": [],
   "source": [
    "df['CAPTIONS']=result_cap"
   ]
  },
  {
   "cell_type": "code",
   "execution_count": null,
   "id": "f53ca611",
   "metadata": {},
   "outputs": [],
   "source": [
    "df['TYPE']=ptype"
   ]
  },
  {
   "cell_type": "code",
   "execution_count": null,
   "id": "2f1bb20a",
   "metadata": {},
   "outputs": [],
   "source": [
    "driver.minimize_window()"
   ]
  },
  {
   "cell_type": "code",
   "execution_count": null,
   "id": "2c2c0bd5",
   "metadata": {},
   "outputs": [],
   "source": [
    "keyword=input(\"Enter keyword you want to search:\").lower()"
   ]
  },
  {
   "cell_type": "code",
   "execution_count": null,
   "id": "5d441bea",
   "metadata": {},
   "outputs": [],
   "source": [
    "def find(string,keyword):\n",
    "    string=string.lower()\n",
    "    string=re.sub('\\n',' ',string)\n",
    "    if keyword in string:\n",
    "        return True\n",
    "    \n",
    "    else:\n",
    "        return False"
   ]
  },
  {
   "cell_type": "code",
   "execution_count": null,
   "id": "a10a35ef",
   "metadata": {},
   "outputs": [],
   "source": [
    "df['FOUND']=df.apply(lambda i:find(i['CAPTIONS'],keyword),axis=1)        "
   ]
  },
  {
   "cell_type": "code",
   "execution_count": null,
   "id": "219ef625",
   "metadata": {},
   "outputs": [],
   "source": [
    "df['SPONSOR']=p_or_u"
   ]
  },
  {
   "cell_type": "code",
   "execution_count": null,
   "id": "5b405e36",
   "metadata": {
    "scrolled": true
   },
   "outputs": [],
   "source": [
    "df[df['FOUND']==True]"
   ]
  },
  {
   "cell_type": "code",
   "execution_count": null,
   "id": "13a73738",
   "metadata": {},
   "outputs": [],
   "source": [
    "rand=driver.find_elements(By.CLASS_NAME,'_ac2d')"
   ]
  },
  {
   "cell_type": "code",
   "execution_count": null,
   "id": "785ca2a1",
   "metadata": {},
   "outputs": [],
   "source": [
    "len(rand)"
   ]
  }
 ],
 "metadata": {
  "kernelspec": {
   "display_name": "Python 3 (ipykernel)",
   "language": "python",
   "name": "python3"
  },
  "language_info": {
   "codemirror_mode": {
    "name": "ipython",
    "version": 3
   },
   "file_extension": ".py",
   "mimetype": "text/x-python",
   "name": "python",
   "nbconvert_exporter": "python",
   "pygments_lexer": "ipython3",
   "version": "3.11.3"
  }
 },
 "nbformat": 4,
 "nbformat_minor": 5
}
