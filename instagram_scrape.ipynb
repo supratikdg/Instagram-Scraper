{
 "cells": [
  {
   "cell_type": "code",
   "execution_count": null,
   "id": "66180b7a",
   "metadata": {},
   "outputs": [],
   "source": [
    "from bs4 import BeautifulSoup"
   ]
  },
  {
   "cell_type": "code",
   "execution_count": null,
   "id": "ec7e1f1c",
   "metadata": {},
   "outputs": [],
   "source": [
    "import requests"
   ]
  },
  {
   "cell_type": "code",
   "execution_count": null,
   "id": "1f1c8043",
   "metadata": {},
   "outputs": [],
   "source": [
    "!pip install selenium"
   ]
  },
  {
   "cell_type": "code",
   "execution_count": null,
   "id": "4a0175e2",
   "metadata": {},
   "outputs": [],
   "source": [
    "import selenium.webdriver as webdriver"
   ]
  },
  {
   "cell_type": "code",
   "execution_count": null,
   "id": "e69a4933",
   "metadata": {},
   "outputs": [],
   "source": [
    "from selenium.webdriver.common.action_chains import ActionChains"
   ]
  },
  {
   "cell_type": "code",
   "execution_count": null,
   "id": "8cc05f6f",
   "metadata": {},
   "outputs": [],
   "source": [
    "from selenium.webdriver.common.keys import Keys"
   ]
  },
  {
   "cell_type": "code",
   "execution_count": null,
   "id": "ed9e4d2b",
   "metadata": {},
   "outputs": [],
   "source": [
    "from selenium.webdriver.support import expected_conditions as EC"
   ]
  },
  {
   "cell_type": "code",
   "execution_count": null,
   "id": "da0d5f4a",
   "metadata": {},
   "outputs": [],
   "source": [
    "from selenium.webdriver.common.by import By"
   ]
  },
  {
   "cell_type": "code",
   "execution_count": null,
   "id": "80fe8fba",
   "metadata": {},
   "outputs": [],
   "source": [
    "from selenium.webdriver.support.wait import WebDriverWait"
   ]
  },
  {
   "cell_type": "code",
   "execution_count": null,
   "id": "398cf4e6",
   "metadata": {},
   "outputs": [],
   "source": [
    "url=\"https://www.instagram.com/\""
   ]
  },
  {
   "cell_type": "code",
   "execution_count": null,
   "id": "8ee1f8bd",
   "metadata": {},
   "outputs": [],
   "source": [
    "driver=webdriver.Chrome()"
   ]
  },
  {
   "cell_type": "code",
   "execution_count": null,
   "id": "cd32e352",
   "metadata": {},
   "outputs": [],
   "source": [
    "driver.get(url)"
   ]
  },
  {
   "cell_type": "code",
   "execution_count": null,
   "id": "5056bfc3",
   "metadata": {},
   "outputs": [],
   "source": [
    "username= WebDriverWait(driver,10).until(EC.element_to_be_clickable((By.CSS_SELECTOR,\"input[name='username']\")))"
   ]
  },
  {
   "cell_type": "code",
   "execution_count": null,
   "id": "64439c73",
   "metadata": {},
   "outputs": [],
   "source": [
    "password= WebDriverWait(driver,10).until(EC.element_to_be_clickable((By.CSS_SELECTOR,\"input[name='password']\")))"
   ]
  },
  {
   "cell_type": "code",
   "execution_count": null,
   "id": "29c0c587",
   "metadata": {},
   "outputs": [],
   "source": [
    "username.clear()"
   ]
  },
  {
   "cell_type": "code",
   "execution_count": null,
   "id": "153eab24",
   "metadata": {},
   "outputs": [],
   "source": [
    "password.clear()"
   ]
  },
  {
   "cell_type": "code",
   "execution_count": null,
   "id": "5bf29efd",
   "metadata": {},
   "outputs": [],
   "source": [
    "username=input(\"Enter the username\")"
   ]
  },
  {
   "cell_type": "code",
   "execution_count": null,
   "id": "618d46d8",
   "metadata": {},
   "outputs": [],
   "source": [
    "password=input(\"Enter the password\")"
   ]
  },
  {
   "cell_type": "code",
   "execution_count": null,
   "id": "ba45d3f1",
   "metadata": {},
   "outputs": [],
   "source": [
    "username.send_keys(username)"
   ]
  },
  {
   "cell_type": "code",
   "execution_count": null,
   "id": "55d73142",
   "metadata": {},
   "outputs": [],
   "source": [
    "password.send_keys(password)"
   ]
  },
  {
   "cell_type": "code",
   "execution_count": null,
   "id": "81261643",
   "metadata": {},
   "outputs": [],
   "source": [
    "login= WebDriverWait(driver,10).until(EC.element_to_be_clickable((By.CSS_SELECTOR,\"button[type='submit']\"))).click()"
   ]
  },
  {
   "cell_type": "code",
   "execution_count": null,
   "id": "65000f1c",
   "metadata": {},
   "outputs": [],
   "source": [
    "login2= WebDriverWait(driver,10).until(EC.element_to_be_clickable((By.XPATH,\"//div[contains(text(),'Not Now')]\"))).click()"
   ]
  },
  {
   "cell_type": "code",
   "execution_count": null,
   "id": "16e4bd81",
   "metadata": {},
   "outputs": [],
   "source": [
    "login3= WebDriverWait(driver,10).until(EC.element_to_be_clickable((By.XPATH,\"//button[contains(text(),'Not Now')]\"))).click()"
   ]
  },
  {
   "cell_type": "code",
   "execution_count": null,
   "id": "4eb3ff14",
   "metadata": {},
   "outputs": [],
   "source": [
    "search1= WebDriverWait(driver,10).until(EC.element_to_be_clickable((By.CSS_SELECTOR,\"a[href='#']\"))).click()"
   ]
  },
  {
   "cell_type": "code",
   "execution_count": null,
   "id": "f91de09a",
   "metadata": {},
   "outputs": [],
   "source": [
    "search1= WebDriverWait(driver,10).until(EC.element_to_be_clickable((By.CSS_SELECTOR,\"input[placeholder='Search']\")))"
   ]
  },
  {
   "cell_type": "code",
   "execution_count": null,
   "id": "6c188962",
   "metadata": {},
   "outputs": [],
   "source": [
    "search1.clear()"
   ]
  },
  {
   "cell_type": "code",
   "execution_count": null,
   "id": "bd076fdd",
   "metadata": {},
   "outputs": [],
   "source": [
    "handle='leomessi'"
   ]
  },
  {
   "cell_type": "code",
   "execution_count": null,
   "id": "214fd817",
   "metadata": {},
   "outputs": [],
   "source": [
    "search1.send_keys(handle)"
   ]
  },
  {
   "cell_type": "code",
   "execution_count": null,
   "id": "d3a57cfe",
   "metadata": {},
   "outputs": [],
   "source": [
    "actions=ActionChains(driver)"
   ]
  },
  {
   "cell_type": "code",
   "execution_count": null,
   "id": "baabae80",
   "metadata": {},
   "outputs": [],
   "source": [
    "search1.send_keys(Keys.ARROW_DOWN)"
   ]
  },
  {
   "cell_type": "code",
   "execution_count": null,
   "id": "4fabf8b8",
   "metadata": {},
   "outputs": [],
   "source": [
    "search1.send_keys(Keys.ENTER)"
   ]
  },
  {
   "cell_type": "code",
   "execution_count": null,
   "id": "d2fe1d67",
   "metadata": {},
   "outputs": [],
   "source": [
    "links=driver.find_element(By.TAG_NAME,'img')"
   ]
  },
  {
   "cell_type": "code",
   "execution_count": null,
   "id": "b47c5681",
   "metadata": {},
   "outputs": [],
   "source": [
    "links"
   ]
  },
  {
   "cell_type": "code",
   "execution_count": null,
   "id": "3c65201d",
   "metadata": {},
   "outputs": [],
   "source": [
    "photos=driver.find_elements(By.TAG_NAME,'div[class=_aagw]').click()"
   ]
  },
  {
   "cell_type": "code",
   "execution_count": null,
   "id": "bf6b8d95",
   "metadata": {},
   "outputs": [],
   "source": []
  }
 ],
 "metadata": {
  "kernelspec": {
   "display_name": "Python 3 (ipykernel)",
   "language": "python",
   "name": "python3"
  },
  "language_info": {
   "codemirror_mode": {
    "name": "ipython",
    "version": 3
   },
   "file_extension": ".py",
   "mimetype": "text/x-python",
   "name": "python",
   "nbconvert_exporter": "python",
   "pygments_lexer": "ipython3",
   "version": "3.11.3"
  }
 },
 "nbformat": 4,
 "nbformat_minor": 5
}
