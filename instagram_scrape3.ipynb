{
 "cells": [
  {
   "cell_type": "code",
   "execution_count": null,
   "id": "66180b7a",
   "metadata": {},
   "outputs": [],
   "source": [
    "from bs4 import BeautifulSoup"
   ]
  },
  {
   "cell_type": "code",
   "execution_count": null,
   "id": "27d5b6f7",
   "metadata": {},
   "outputs": [],
   "source": [
    "import pandas as pd"
   ]
  },
  {
   "cell_type": "code",
   "execution_count": null,
   "id": "48c31feb",
   "metadata": {},
   "outputs": [],
   "source": [
    "from tqdm import tqdm"
   ]
  },
  {
   "cell_type": "code",
   "execution_count": null,
   "id": "1650f267",
   "metadata": {},
   "outputs": [],
   "source": [
    "import time"
   ]
  },
  {
   "cell_type": "code",
   "execution_count": null,
   "id": "ec7e1f1c",
   "metadata": {},
   "outputs": [],
   "source": [
    "import requests"
   ]
  },
  {
   "cell_type": "code",
   "execution_count": null,
   "id": "fb0d3fbf",
   "metadata": {},
   "outputs": [],
   "source": [
    "import re"
   ]
  },
  {
   "cell_type": "code",
   "execution_count": null,
   "id": "1f1c8043",
   "metadata": {},
   "outputs": [],
   "source": [
    "!pip install selenium"
   ]
  },
  {
   "cell_type": "code",
   "execution_count": null,
   "id": "4a0175e2",
   "metadata": {},
   "outputs": [],
   "source": [
    "import selenium.webdriver as webdriver"
   ]
  },
  {
   "cell_type": "code",
   "execution_count": null,
   "id": "e69a4933",
   "metadata": {},
   "outputs": [],
   "source": [
    "from selenium.webdriver.common.action_chains import ActionChains"
   ]
  },
  {
   "cell_type": "code",
   "execution_count": null,
   "id": "8cc05f6f",
   "metadata": {},
   "outputs": [],
   "source": [
    "from selenium.webdriver.common.keys import Keys"
   ]
  },
  {
   "cell_type": "code",
   "execution_count": null,
   "id": "0489b2c5",
   "metadata": {},
   "outputs": [],
   "source": [
    "from selenium.common.exceptions import TimeoutException"
   ]
  },
  {
   "cell_type": "code",
   "execution_count": null,
   "id": "ed9e4d2b",
   "metadata": {},
   "outputs": [],
   "source": [
    "from selenium.webdriver.support import expected_conditions as EC"
   ]
  },
  {
   "cell_type": "code",
   "execution_count": null,
   "id": "da0d5f4a",
   "metadata": {},
   "outputs": [],
   "source": [
    "from selenium.webdriver.common.by import By"
   ]
  },
  {
   "cell_type": "code",
   "execution_count": null,
   "id": "80fe8fba",
   "metadata": {},
   "outputs": [],
   "source": [
    "from selenium.webdriver.support.wait import WebDriverWait"
   ]
  },
  {
   "cell_type": "code",
   "execution_count": null,
   "id": "398cf4e6",
   "metadata": {},
   "outputs": [],
   "source": [
    "url=\"https://www.instagram.com/\""
   ]
  },
  {
   "cell_type": "code",
   "execution_count": null,
   "id": "8ee1f8bd",
   "metadata": {},
   "outputs": [],
   "source": [
    "driver=webdriver.Chrome()"
   ]
  },
  {
   "cell_type": "code",
   "execution_count": null,
   "id": "cd32e352",
   "metadata": {},
   "outputs": [],
   "source": [
    "driver.get(url)"
   ]
  },
  {
   "cell_type": "code",
   "execution_count": null,
   "id": "483021c4",
   "metadata": {},
   "outputs": [],
   "source": [
    "driver.maximize_window()"
   ]
  },
  {
   "cell_type": "code",
   "execution_count": null,
   "id": "5056bfc3",
   "metadata": {},
   "outputs": [],
   "source": [
    "username= WebDriverWait(driver,10).until(EC.element_to_be_clickable((By.CSS_SELECTOR,\"input[name='username']\")))"
   ]
  },
  {
   "cell_type": "code",
   "execution_count": null,
   "id": "64439c73",
   "metadata": {},
   "outputs": [],
   "source": [
    "password= WebDriverWait(driver,10).until(EC.element_to_be_clickable((By.CSS_SELECTOR,\"input[name='password']\")))"
   ]
  },
  {
   "cell_type": "code",
   "execution_count": null,
   "id": "29c0c587",
   "metadata": {},
   "outputs": [],
   "source": [
    "username.clear()"
   ]
  },
  {
   "cell_type": "code",
   "execution_count": null,
   "id": "153eab24",
   "metadata": {},
   "outputs": [],
   "source": [
    "password.clear()"
   ]
  },
  {
   "cell_type": "code",
   "execution_count": null,
   "id": "98ec2efd",
   "metadata": {},
   "outputs": [],
   "source": [
    "username=input(\"Enter the username: \")"
   ]
  },
  {
   "cell_type": "code",
   "execution_count": null,
   "id": "ba45d3f1",
   "metadata": {},
   "outputs": [],
   "source": [
    "username.send_keys(username)"
   ]
  },
  {
   "cell_type": "code",
   "execution_count": null,
   "id": "7697ac44",
   "metadata": {},
   "outputs": [],
   "source": [
    "password=input(\"Enter the password: \")"
   ]
  },
  {
   "cell_type": "code",
   "execution_count": null,
   "id": "55d73142",
   "metadata": {},
   "outputs": [],
   "source": [
    "password.send_keys(password)"
   ]
  },
  {
   "cell_type": "code",
   "execution_count": null,
   "id": "81261643",
   "metadata": {},
   "outputs": [],
   "source": [
    "login= WebDriverWait(driver,10).until(EC.element_to_be_clickable((By.CSS_SELECTOR,\"button[type='submit']\"))).click()"
   ]
  },
  {
   "cell_type": "code",
   "execution_count": null,
   "id": "65000f1c",
   "metadata": {},
   "outputs": [],
   "source": [
    "login2= WebDriverWait(driver,10).until(EC.element_to_be_clickable((By.XPATH,\"//div[contains(text(),'Not Now')]\"))).click()"
   ]
  },
  {
   "cell_type": "code",
   "execution_count": null,
   "id": "16e4bd81",
   "metadata": {},
   "outputs": [],
   "source": [
    "login3= WebDriverWait(driver,10).until(EC.element_to_be_clickable((By.XPATH,\"//button[contains(text(),'Not Now')]\"))).click()"
   ]
  },
  {
   "cell_type": "code",
   "execution_count": null,
   "id": "c2622a51",
   "metadata": {},
   "outputs": [],
   "source": [
    "driver.minimize_window()"
   ]
  },
  {
   "cell_type": "code",
   "execution_count": null,
   "id": "bd076fdd",
   "metadata": {},
   "outputs": [],
   "source": [
    "handle=input(\"Enter the handle name:\")"
   ]
  },
  {
   "cell_type": "code",
   "execution_count": null,
   "id": "46cf3267",
   "metadata": {},
   "outputs": [],
   "source": [
    "driver.maximize_window()"
   ]
  },
  {
   "cell_type": "code",
   "execution_count": null,
   "id": "a3f62898",
   "metadata": {},
   "outputs": [],
   "source": [
    "handle=handle+'/?hl=en'"
   ]
  },
  {
   "cell_type": "code",
   "execution_count": null,
   "id": "214fd817",
   "metadata": {},
   "outputs": [],
   "source": [
    "driver.get(url+handle)"
   ]
  },
  {
   "cell_type": "code",
   "execution_count": null,
   "id": "da3fec2e",
   "metadata": {},
   "outputs": [],
   "source": [
    "spt=3"
   ]
  },
  {
   "cell_type": "code",
   "execution_count": null,
   "id": "a82af0a1",
   "metadata": {},
   "outputs": [],
   "source": [
    "last_height=driver.execute_script(\"return document.body.scrollHeight\")"
   ]
  },
  {
   "cell_type": "code",
   "execution_count": null,
   "id": "74fae76d",
   "metadata": {},
   "outputs": [],
   "source": [
    "while True:\n",
    "    driver.execute_script(\"window.scrollTo(0,document.body.scrollHeight);\")\n",
    "    time.sleep(spt)\n",
    "    new_height=driver.execute_script(\"return document.body.scrollHeight\")\n",
    "    if (last_height==new_height):\n",
    "        break;\n",
    "        \n",
    "    else:\n",
    "        last_height=new_height"
   ]
  },
  {
   "cell_type": "code",
   "execution_count": null,
   "id": "b8aae14d",
   "metadata": {},
   "outputs": [],
   "source": [
    "soup=BeautifulSoup(driver.page_source,'html.parser')"
   ]
  },
  {
   "cell_type": "code",
   "execution_count": null,
   "id": "b6fd5c3b",
   "metadata": {},
   "outputs": [],
   "source": [
    "print(soup.prettify())"
   ]
  },
  {
   "cell_type": "code",
   "execution_count": null,
   "id": "6fe5a272",
   "metadata": {},
   "outputs": [],
   "source": [
    "soup.find_all('div',class_='_aabd _aa8k _al3l')"
   ]
  },
  {
   "cell_type": "code",
   "execution_count": null,
   "id": "1fb20895",
   "metadata": {},
   "outputs": [],
   "source": []
  }
 ],
 "metadata": {
  "kernelspec": {
   "display_name": "Python 3 (ipykernel)",
   "language": "python",
   "name": "python3"
  },
  "language_info": {
   "codemirror_mode": {
    "name": "ipython",
    "version": 3
   },
   "file_extension": ".py",
   "mimetype": "text/x-python",
   "name": "python",
   "nbconvert_exporter": "python",
   "pygments_lexer": "ipython3",
   "version": "3.11.3"
  }
 },
 "nbformat": 4,
 "nbformat_minor": 5
}
