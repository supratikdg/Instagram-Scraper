{
 "cells": [
  {
   "cell_type": "code",
   "execution_count": 1,
   "id": "58ae9707",
   "metadata": {},
   "outputs": [
    {
     "name": "stdout",
     "output_type": "stream",
     "text": [
      "Requirement already satisfied: selenium in c:\\users\\supra\\anaconda3\\lib\\site-packages (4.12.0)\n",
      "Requirement already satisfied: urllib3[socks]<3,>=1.26 in c:\\users\\supra\\anaconda3\\lib\\site-packages (from selenium) (1.26.16)\n",
      "Requirement already satisfied: trio~=0.17 in c:\\users\\supra\\anaconda3\\lib\\site-packages (from selenium) (0.22.2)\n",
      "Requirement already satisfied: trio-websocket~=0.9 in c:\\users\\supra\\anaconda3\\lib\\site-packages (from selenium) (0.10.4)\n",
      "Requirement already satisfied: certifi>=2021.10.8 in c:\\users\\supra\\anaconda3\\lib\\site-packages (from selenium) (2023.5.7)\n",
      "Requirement already satisfied: attrs>=20.1.0 in c:\\users\\supra\\anaconda3\\lib\\site-packages (from trio~=0.17->selenium) (22.1.0)\n",
      "Requirement already satisfied: sortedcontainers in c:\\users\\supra\\anaconda3\\lib\\site-packages (from trio~=0.17->selenium) (2.4.0)\n",
      "Requirement already satisfied: idna in c:\\users\\supra\\anaconda3\\lib\\site-packages (from trio~=0.17->selenium) (2.10)\n",
      "Requirement already satisfied: outcome in c:\\users\\supra\\anaconda3\\lib\\site-packages (from trio~=0.17->selenium) (1.2.0)\n",
      "Requirement already satisfied: sniffio in c:\\users\\supra\\anaconda3\\lib\\site-packages (from trio~=0.17->selenium) (1.2.0)\n",
      "Requirement already satisfied: cffi>=1.14 in c:\\users\\supra\\anaconda3\\lib\\site-packages (from trio~=0.17->selenium) (1.15.1)\n",
      "Requirement already satisfied: exceptiongroup in c:\\users\\supra\\anaconda3\\lib\\site-packages (from trio-websocket~=0.9->selenium) (1.1.3)\n",
      "Requirement already satisfied: wsproto>=0.14 in c:\\users\\supra\\anaconda3\\lib\\site-packages (from trio-websocket~=0.9->selenium) (1.2.0)\n",
      "Requirement already satisfied: PySocks!=1.5.7,<2.0,>=1.5.6 in c:\\users\\supra\\anaconda3\\lib\\site-packages (from urllib3[socks]<3,>=1.26->selenium) (1.7.1)\n",
      "Requirement already satisfied: pycparser in c:\\users\\supra\\anaconda3\\lib\\site-packages (from cffi>=1.14->trio~=0.17->selenium) (2.21)\n",
      "Requirement already satisfied: h11<1,>=0.9.0 in c:\\users\\supra\\anaconda3\\lib\\site-packages (from wsproto>=0.14->trio-websocket~=0.9->selenium) (0.9.0)\n"
     ]
    }
   ],
   "source": [
    "import pandas as pd\n",
    "from tqdm import tqdm\n",
    "import time\n",
    "import re\n",
    "!pip install selenium\n",
    "import selenium.webdriver as webdriver\n",
    "from selenium.webdriver.common.keys import Keys\n",
    "from selenium.common.exceptions import TimeoutException\n",
    "from selenium.webdriver.support import expected_conditions as EC\n",
    "from selenium.webdriver.common.by import By\n",
    "from selenium.webdriver.support.wait import WebDriverWait"
   ]
  },
  {
   "cell_type": "code",
   "execution_count": 2,
   "id": "47478ab7",
   "metadata": {},
   "outputs": [],
   "source": [
    "def login(driver,url):\n",
    "    driver.get(url)\n",
    "    driver.maximize_window()\n",
    "    user=input(\"Enter your username: \")\n",
    "    passw=input(\"Enter your password: \")\n",
    "    username= WebDriverWait(driver,10).until(EC.element_to_be_clickable((By.CSS_SELECTOR,\"input[name='username']\")))\n",
    "    password= WebDriverWait(driver,10).until(EC.element_to_be_clickable((By.CSS_SELECTOR,\"input[name='password']\")))\n",
    "    username.clear()\n",
    "    password.clear()\n",
    "    username.send_keys(user)\n",
    "    password.send_keys(passw)\n",
    "    login= WebDriverWait(driver,10).until(EC.element_to_be_clickable((By.CSS_SELECTOR,\"button[type='submit']\"))).click()\n",
    "    login3= WebDriverWait(driver,10).until(EC.element_to_be_clickable((By.XPATH,\"//button[contains(text(),'Not Now')]\"))).click()"
   ]
  },
  {
   "cell_type": "code",
   "execution_count": 3,
   "id": "b479b4e2",
   "metadata": {},
   "outputs": [],
   "source": [
    "def get_handle(driver,url,handle):\n",
    "    handle=handle+'/?hl=en'\n",
    "    driver.get(url+handle)"
   ]
  },
  {
   "cell_type": "code",
   "execution_count": 4,
   "id": "7b3e100b",
   "metadata": {},
   "outputs": [],
   "source": [
    "def scrape(driver,nop):\n",
    "    posts=WebDriverWait(driver,10).until(EC.element_to_be_clickable((By.XPATH,\"//*[text()=' posts']\")))\n",
    "    posts=(posts.text).split()[0]\n",
    "    posts=re.sub(',','',posts)\n",
    "    if(nop.lower()=='all'):\n",
    "        nop=int(posts)\n",
    "        \n",
    "    else:\n",
    "        nop=int(nop)\n",
    "    photo= WebDriverWait(driver,10).until(EC.element_to_be_clickable((By.CSS_SELECTOR,\"div[class='_aagw']\"))).click()\n",
    "    result_cap=[]\n",
    "    result_likes=[]\n",
    "    ptype=[]\n",
    "    p_or_u=[]\n",
    "    for i in tqdm(range(nop)):\n",
    "        time.sleep(0.5)\n",
    "        vid=driver.find_elements(By.TAG_NAME,'video')\n",
    "        paid=(driver.find_elements(By.XPATH,\"//*[text()='Paid partnership']\")) or (driver.find_elements(By.XPATH,\"//*[text()='Paid partnership with ']\"))\n",
    "        if(len(paid)==0):\n",
    "            p_or_u.append('Not sponsored')\n",
    "            \n",
    "        else:\n",
    "            p_or_u.append('Sponsored')\n",
    "            \n",
    "        if (len(vid)==0):\n",
    "            ptype.append('Photo')\n",
    "            \n",
    "        else:\n",
    "            ptype.append('Video')\n",
    "        \n",
    "        likes=WebDriverWait(driver,10).until(EC.element_to_be_clickable((By.XPATH,\"//*[text()=' likes']\")))\n",
    "        likes=int(re.sub(',','',likes.text.split()[0]))\n",
    "        result_likes.append(likes)\n",
    "        try:\n",
    "            cap=WebDriverWait(driver,1).until(EC.element_to_be_clickable((By.CSS_SELECTOR,\"h1[class='_aacl _aaco _aacu _aacx _aad7 _aade']\")))\n",
    "        except TimeoutException:\n",
    "            result_cap.append(\"NO_CAPTION\")\n",
    "            photo= WebDriverWait(driver,20).until(EC.element_to_be_clickable((By.CSS_SELECTOR,\"div[class=' _aaqg _aaqh']\"))).click()\n",
    "            continue\n",
    "        result_cap.append(cap.text)\n",
    "        photo= WebDriverWait(driver,20).until(EC.element_to_be_clickable(\n",
    "            (By.CSS_SELECTOR,\"div[class=' _aaqg _aaqh']\"))).click()\n",
    "    \n",
    "    df=pd.DataFrame()\n",
    "    for i in range(len(result_cap)):\n",
    "        result_cap[i]=\" \".join(re.sub('\\n',' ',result_cap[i]).split())\n",
    "    df['LIKES']=result_likes\n",
    "    df['CAPTIONS']=result_cap\n",
    "    df['TYPE']=ptype\n",
    "    df['SPONSOR']=p_or_u\n",
    "    return df"
   ]
  },
  {
   "cell_type": "code",
   "execution_count": 5,
   "id": "8fb53933",
   "metadata": {},
   "outputs": [],
   "source": [
    "def find(string,keyword):\n",
    "    string=string.lower()\n",
    "    if keyword in string:\n",
    "        return True\n",
    "    \n",
    "    else:\n",
    "        return False"
   ]
  },
  {
   "cell_type": "code",
   "execution_count": 6,
   "id": "7c5db430",
   "metadata": {},
   "outputs": [],
   "source": [
    "def find_word(df,kw):\n",
    "    kw=kw.lower()\n",
    "    df['FOUND']=df.apply(lambda i:find(i['CAPTIONS'],kw),axis=1)        \n",
    "    return df[df['FOUND']==True]\n",
    "    "
   ]
  },
  {
   "cell_type": "code",
   "execution_count": null,
   "id": "f2ef7d49",
   "metadata": {},
   "outputs": [],
   "source": [
    "def main():\n",
    "    handle=input(\"Enter the handle: \")\n",
    "    keyword=input(\"Enter the keyword to be searched: \")\n",
    "    no_of_posts=input(\"Enter number of posts you want to search: \")\n",
    "    ques=input(\"Do you want excel?(Y/N): \")\n",
    "    url=\"https://www.instagram.com/\"\n",
    "    driver=webdriver.Chrome()\n",
    "    login(driver,url)\n",
    "    get_handle(driver,url,handle)\n",
    "    df=scrape(driver,no_of_posts)\n",
    "    if(ques.lower()=='yes'):\n",
    "        df.to_excel(\"instaposts.xlsx\")\n",
    "        \n",
    "    driver.minimize_window()\n",
    "    ans=find_word(df,keyword)\n",
    "    print(\"The post with the keyword: \")\n",
    "    print(ans)\n",
    "    time.sleep(5)\n",
    "    \n",
    "if __name__==(\"__main__\"):\n",
    "    main()"
   ]
  },
  {
   "cell_type": "code",
   "execution_count": null,
   "id": "933a072c",
   "metadata": {},
   "outputs": [],
   "source": []
  }
 ],
 "metadata": {
  "kernelspec": {
   "display_name": "Python 3 (ipykernel)",
   "language": "python",
   "name": "python3"
  },
  "language_info": {
   "codemirror_mode": {
    "name": "ipython",
    "version": 3
   },
   "file_extension": ".py",
   "mimetype": "text/x-python",
   "name": "python",
   "nbconvert_exporter": "python",
   "pygments_lexer": "ipython3",
   "version": "3.11.3"
  }
 },
 "nbformat": 4,
 "nbformat_minor": 5
}
